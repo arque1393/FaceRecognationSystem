{
 "cells": [
  {
   "cell_type": "markdown",
   "metadata": {
    "id": "bzo4Wh4adc5_"
   },
   "source": [
    "# Face Detection and Recgonesion using Siamese Architecture \n",
    "### Dependency \n",
    "* Tensorflow for neural network \n",
    "* opencv for image process \n"
   ]
  },
  {
   "cell_type": "code",
   "execution_count": 2,
   "metadata": {
    "colab": {
     "base_uri": "https://localhost:8080/"
    },
    "executionInfo": {
     "elapsed": 21517,
     "status": "ok",
     "timestamp": 1668484452592,
     "user": {
      "displayName": "Aritra Ranjan Chowdhury",
      "userId": "14354171114696885282"
     },
     "user_tz": -330
    },
    "id": "HhJxUiM9gBy7",
    "outputId": "003e32f0-e6a5-4645-fd77-158a3ca8da20"
   },
   "outputs": [
    {
     "name": "stdout",
     "output_type": "stream",
     "text": [
      "Mounted at /content/gdrive\n"
     ]
    }
   ],
   "source": [
    "from google.colab import drive\n",
    "drive.mount('/content/gdrive')\n"
   ]
  },
  {
   "cell_type": "code",
   "execution_count": 3,
   "metadata": {
    "executionInfo": {
     "elapsed": 589,
     "status": "ok",
     "timestamp": 1668484459176,
     "user": {
      "displayName": "Aritra Ranjan Chowdhury",
      "userId": "14354171114696885282"
     },
     "user_tz": -330
    },
    "id": "_WIynmCgcduh"
   },
   "outputs": [],
   "source": [
    "# Imports --1 \n",
    "import os\n",
    "import cv2\n",
    "import matplotlib.pyplot as plt\n",
    "import random\n"
   ]
  },
  {
   "cell_type": "markdown",
   "metadata": {
    "id": "U7hs6oJpWon4",
    "tags": []
   },
   "source": [
    "## Data Collecting and Sorting "
   ]
  },
  {
   "cell_type": "code",
   "execution_count": 4,
   "metadata": {
    "executionInfo": {
     "elapsed": 2,
     "status": "ok",
     "timestamp": 1668484461046,
     "user": {
      "displayName": "Aritra Ranjan Chowdhury",
      "userId": "14354171114696885282"
     },
     "user_tz": -330
    },
    "id": "jQRjZpcnie6B"
   },
   "outputs": [],
   "source": [
    "basedir = \"/content/gdrive/MyDrive/FaceRecognation/\"\n",
    "POS_PATH = \"data/positive\"\n",
    "NEG_PATH = \"data/negative\"\n",
    "ANC_PATH = \"data/ancore\"\n",
    "# os.system(\"cd \"+basedir+\"; tar -xf \"+basedir+\"lfw.tgz\")"
   ]
  },
  {
   "cell_type": "code",
   "execution_count": null,
   "metadata": {
    "colab": {
     "base_uri": "https://localhost:8080/",
     "height": 36
    },
    "executionInfo": {
     "elapsed": 16,
     "status": "ok",
     "timestamp": 1668297290164,
     "user": {
      "displayName": "Aritra Ranjan Chowdhury",
      "userId": "14354171114696885282"
     },
     "user_tz": -330
    },
    "id": "sOemwsUXs5tU",
    "outputId": "5bd29584-d1c2-4690-8ef8-a15f6dadfdc6"
   },
   "outputs": [
    {
     "data": {
      "application/vnd.google.colaboratory.intrinsic+json": {
       "type": "string"
      },
      "text/plain": [
       "'/content/gdrive/MyDrive/FaceRecognation/data/ancore'"
      ]
     },
     "execution_count": 5,
     "metadata": {},
     "output_type": "execute_result"
    }
   ],
   "source": [
    "os.path.join(basedir,ANC_PATH)"
   ]
  },
  {
   "cell_type": "code",
   "execution_count": null,
   "metadata": {
    "id": "K-vs_Qerjent"
   },
   "outputs": [],
   "source": [
    "# Formation of negative data from dataset \n",
    "for dir1 in os.listdir(basedir+\"lfw\"):\n",
    "  for file1 in os.listdir(os.path.join(basedir,\"lfw\", dir1)):\n",
    "    ex_path = os.path.join(basedir+\"lfw\", dir1, file1 )\n",
    "    new_path = os.path.join(basedir, NEG_PATH, file1 )\n",
    "    \n",
    "    os.replace (ex_path, new_path)\n"
   ]
  },
  {
   "cell_type": "code",
   "execution_count": 15,
   "metadata": {
    "executionInfo": {
     "elapsed": 7240,
     "status": "ok",
     "timestamp": 1668484728423,
     "user": {
      "displayName": "Aritra Ranjan Chowdhury",
      "userId": "14354171114696885282"
     },
     "user_tz": -330
    },
    "id": "C9vD7pW_tU-u"
   },
   "outputs": [],
   "source": [
    " # Formation of Positive and ancore data \n",
    "\n",
    "\n",
    "video1 = cv2.VideoCapture(basedir+'face_video_2.mp4')\n",
    "video2 = cv2.VideoCapture(basedir+'face_video_1.mp4')\n",
    "\n",
    "success, image = video1.read()  \n",
    "count = 0\n",
    "while success:  \n",
    "  cv2.imwrite(os.path.join(basedir, POS_PATH, \"frame%d.jpg\" % count), image[300:880, 40:620,:]) \n",
    "  count+=1\n",
    "  success, image = video1.read()    \n"
   ]
  },
  {
   "cell_type": "code",
   "execution_count": 60,
   "metadata": {
    "colab": {
     "base_uri": "https://localhost:8080/"
    },
    "executionInfo": {
     "elapsed": 466,
     "status": "ok",
     "timestamp": 1668485357417,
     "user": {
      "displayName": "Aritra Ranjan Chowdhury",
      "userId": "14354171114696885282"
     },
     "user_tz": -330
    },
    "id": "SVZdKyaFvNYO",
    "outputId": "69a2b58c-2be8-4db9-df8f-299241d35e95"
   },
   "outputs": [
    {
     "data": {
      "text/plain": [
       "(158, 158, 158)"
      ]
     },
     "execution_count": 60,
     "metadata": {},
     "output_type": "execute_result"
    }
   ],
   "source": [
    "p = len(os.listdir(os.path.join(basedir, POS_PATH)))\n",
    "n = len(os.listdir(os.path.join(basedir, NEG_PATH)))\n",
    "a = len(os.listdir(os.path.join(basedir, ANC_PATH)))\n",
    "a,p,n"
   ]
  },
  {
   "cell_type": "code",
   "execution_count": 11,
   "metadata": {
    "executionInfo": {
     "elapsed": 418,
     "status": "ok",
     "timestamp": 1668484584867,
     "user": {
      "displayName": "Aritra Ranjan Chowdhury",
      "userId": "14354171114696885282"
     },
     "user_tz": -330
    },
    "id": "uupS9HgIU_aQ"
   },
   "outputs": [],
   "source": [
    "import shutil "
   ]
  },
  {
   "cell_type": "code",
   "execution_count": 18,
   "metadata": {
    "colab": {
     "base_uri": "https://localhost:8080/"
    },
    "executionInfo": {
     "elapsed": 1537,
     "status": "ok",
     "timestamp": 1668484818310,
     "user": {
      "displayName": "Aritra Ranjan Chowdhury",
      "userId": "14354171114696885282"
     },
     "user_tz": -330
    },
    "id": "yq6X9uxDCcOE",
    "outputId": "592f7304-0a1d-4991-a6f3-de412b3e2986"
   },
   "outputs": [
    {
     "name": "stdout",
     "output_type": "stream",
     "text": [
      "['frame15.jpg', 'frame29.jpg', 'frame59.jpg', 'frame62.jpg', 'frame64.jpg', 'frame65.jpg', 'frame100.jpg', 'frame133.jpg', 'frame181.jpg', 'frame197.jpg', 'frame215.jpg', 'frame226.jpg', 'frame241.jpg', 'frame302.jpg', 'frame305.jpg', 'frame309.jpg', 'frame30.jpg', 'frame393.jpg', 'frame394.jpg', 'frame397.jpg', 'frame402.jpg', 'frame405.jpg', 'frame408.jpg', 'frame428.jpg', 'frame444.jpg', 'frame450.jpg', 'frame458.jpg', 'frame480.jpg', 'frame495.jpg', 'frame500.jpg', 'frame506.jpg', 'frame40.jpg', 'frame518.jpg', 'frame519.jpg', 'frame521.jpg', 'frame43.jpg', 'frame543.jpg', 'frame545.jpg', 'frame46.jpg', 'frame61.jpg', 'frame69.jpg', 'frame77.jpg', 'frame85.jpg', 'frame83.jpg', 'frame95.jpg', 'frame108.jpg', 'frame110.jpg', 'frame118.jpg', 'frame123.jpg', 'frame144.jpg', 'frame149.jpg', 'frame156.jpg', 'frame167.jpg', 'frame174.jpg', 'frame176.jpg', 'frame178.jpg', 'frame213.jpg', 'frame214.jpg', 'frame219.jpg', 'frame225.jpg', 'frame269.jpg', 'frame274.jpg', 'frame275.jpg', 'frame286.jpg', 'frame287.jpg', 'frame298.jpg', 'frame307.jpg', 'frame308.jpg', 'frame322.jpg', 'frame332.jpg', 'frame331.jpg', 'frame334.jpg', 'frame338.jpg', 'frame339.jpg', 'frame348.jpg', 'frame354.jpg', 'frame355.jpg', 'frame371.jpg', 'frame374.jpg', 'frame390.jpg', 'frame392.jpg', 'frame401.jpg', 'frame423.jpg', 'frame427.jpg', 'frame429.jpg', 'frame433.jpg', 'frame434.jpg', 'frame441.jpg', 'frame445.jpg', 'frame447.jpg', 'frame448.jpg', 'frame449.jpg', 'frame460.jpg', 'frame456.jpg', 'frame479.jpg', 'frame488.jpg', 'frame493.jpg', 'frame503.jpg', 'frame505.jpg', 'frame507.jpg', 'frame508.jpg', 'frame510.jpg', 'frame511.jpg', 'frame513.jpg', 'frame515.jpg', 'frame516.jpg', 'frame517.jpg', 'frame529.jpg', 'frame537.jpg', 'frame533.jpg', 'frame539.jpg', 'frame546.jpg', 'frame0.jpg', 'frame1.jpg', 'frame2.jpg', 'frame3.jpg', 'frame8.jpg', 'frame9.jpg', 'frame10.jpg', 'frame11.jpg', 'frame12.jpg', 'frame16.jpg', 'frame17.jpg', 'frame19.jpg', 'frame21.jpg', 'frame22.jpg', 'frame23.jpg', 'frame24.jpg', 'frame26.jpg', 'frame28.jpg', 'frame31.jpg', 'frame32.jpg', 'frame34.jpg', 'frame37.jpg', 'frame44.jpg', 'frame45.jpg', 'frame47.jpg', 'frame48.jpg', 'frame49.jpg', 'frame52.jpg', 'frame53.jpg', 'frame54.jpg', 'frame56.jpg', 'frame57.jpg', 'frame60.jpg', 'frame66.jpg', 'frame68.jpg', 'frame71.jpg', 'frame72.jpg', 'frame73.jpg', 'frame74.jpg', 'frame78.jpg', 'frame79.jpg', 'frame84.jpg', 'frame86.jpg', 'frame87.jpg', 'frame90.jpg', 'frame91.jpg', 'frame93.jpg', 'frame94.jpg', 'frame99.jpg', 'frame104.jpg', 'frame105.jpg', 'frame106.jpg', 'frame107.jpg', 'frame109.jpg', 'frame111.jpg', 'frame113.jpg', 'frame114.jpg', 'frame115.jpg', 'frame117.jpg', 'frame119.jpg', 'frame130.jpg', 'frame131.jpg', 'frame134.jpg', 'frame136.jpg', 'frame137.jpg', 'frame139.jpg', 'frame140.jpg', 'frame142.jpg', 'frame145.jpg', 'frame146.jpg', 'frame147.jpg', 'frame148.jpg', 'frame150.jpg', 'frame151.jpg', 'frame152.jpg', 'frame155.jpg', 'frame158.jpg', 'frame159.jpg', 'frame160.jpg', 'frame162.jpg', 'frame163.jpg', 'frame166.jpg', 'frame169.jpg', 'frame172.jpg', 'frame175.jpg', 'frame179.jpg', 'frame184.jpg', 'frame185.jpg', 'frame186.jpg', 'frame188.jpg', 'frame194.jpg', 'frame195.jpg', 'frame199.jpg', 'frame200.jpg', 'frame202.jpg', 'frame204.jpg', 'frame205.jpg', 'frame206.jpg', 'frame207.jpg', 'frame209.jpg', 'frame210.jpg', 'frame211.jpg', 'frame212.jpg', 'frame216.jpg', 'frame218.jpg', 'frame220.jpg', 'frame224.jpg', 'frame227.jpg', 'frame228.jpg', 'frame229.jpg', 'frame232.jpg', 'frame235.jpg', 'frame236.jpg', 'frame237.jpg', 'frame238.jpg', 'frame239.jpg', 'frame240.jpg', 'frame242.jpg', 'frame244.jpg', 'frame248.jpg', 'frame249.jpg', 'frame250.jpg', 'frame251.jpg', 'frame252.jpg', 'frame254.jpg', 'frame255.jpg', 'frame258.jpg', 'frame263.jpg', 'frame265.jpg', 'frame271.jpg', 'frame272.jpg', 'frame273.jpg', 'frame280.jpg', 'frame282.jpg', 'frame284.jpg', 'frame296.jpg', 'frame300.jpg', 'frame301.jpg', 'frame311.jpg', 'frame313.jpg', 'frame315.jpg', 'frame316.jpg', 'frame321.jpg', 'frame326.jpg', 'frame327.jpg', 'frame328.jpg', 'frame337.jpg', 'frame341.jpg', 'frame342.jpg', 'frame345.jpg', 'frame349.jpg', 'frame350.jpg', 'frame351.jpg', 'frame352.jpg', 'frame356.jpg', 'frame359.jpg', 'frame360.jpg', 'frame361.jpg', 'frame362.jpg', 'frame363.jpg', 'frame365.jpg', 'frame366.jpg', 'frame367.jpg', 'frame368.jpg', 'frame370.jpg', 'frame380.jpg', 'frame382.jpg', 'frame383.jpg', 'frame385.jpg', 'frame386.jpg', 'frame387.jpg', 'frame389.jpg', 'frame391.jpg', 'frame395.jpg', 'frame396.jpg', 'frame398.jpg', 'frame399.jpg', 'frame400.jpg', 'frame403.jpg', 'frame404.jpg', 'frame406.jpg', 'frame407.jpg', 'frame409.jpg', 'frame410.jpg', 'frame411.jpg', 'frame412.jpg', 'frame413.jpg', 'frame414.jpg', 'frame415.jpg', 'frame416.jpg', 'frame417.jpg', 'frame418.jpg', 'frame419.jpg', 'frame420.jpg', 'frame421.jpg', 'frame422.jpg', 'frame424.jpg', 'frame425.jpg', 'frame426.jpg', 'frame430.jpg', 'frame431.jpg', 'frame432.jpg', 'frame435.jpg', 'frame436.jpg', 'frame437.jpg', 'frame438.jpg', 'frame439.jpg', 'frame440.jpg', 'frame442.jpg', 'frame443.jpg', 'frame446.jpg', 'frame451.jpg', 'frame452.jpg', 'frame453.jpg', 'frame454.jpg', 'frame455.jpg', 'frame457.jpg', 'frame459.jpg', 'frame461.jpg', 'frame462.jpg', 'frame463.jpg', 'frame464.jpg', 'frame465.jpg', 'frame466.jpg', 'frame467.jpg', 'frame468.jpg', 'frame469.jpg', 'frame470.jpg', 'frame471.jpg', 'frame472.jpg', 'frame473.jpg', 'frame474.jpg', 'frame475.jpg', 'frame476.jpg', 'frame477.jpg', 'frame478.jpg', 'frame481.jpg', 'frame482.jpg', 'frame483.jpg', 'frame484.jpg', 'frame485.jpg', 'frame486.jpg', 'frame487.jpg', 'frame489.jpg', 'frame490.jpg', 'frame491.jpg', 'frame492.jpg', 'frame494.jpg', 'frame496.jpg', 'frame497.jpg', 'frame498.jpg', 'frame499.jpg', 'frame501.jpg', 'frame502.jpg', 'frame504.jpg', 'frame509.jpg', 'frame512.jpg', 'frame514.jpg', 'frame520.jpg', 'frame522.jpg', 'frame523.jpg', 'frame524.jpg', 'frame525.jpg', 'frame526.jpg', 'frame527.jpg', 'frame528.jpg', 'frame530.jpg', 'frame531.jpg', 'frame532.jpg', 'frame534.jpg', 'frame535.jpg', 'frame536.jpg', 'frame538.jpg', 'frame540.jpg', 'frame541.jpg', 'frame542.jpg', 'frame544.jpg', 'frame4.jpg', 'frame5.jpg', 'frame6.jpg', 'frame7.jpg', 'frame13.jpg', 'frame14.jpg', 'frame18.jpg', 'frame20.jpg', 'frame25.jpg', 'frame27.jpg', 'frame33.jpg', 'frame35.jpg', 'frame36.jpg', 'frame38.jpg', 'frame39.jpg', 'frame41.jpg', 'frame42.jpg', 'frame50.jpg', 'frame51.jpg', 'frame55.jpg', 'frame58.jpg', 'frame63.jpg', 'frame67.jpg', 'frame70.jpg', 'frame75.jpg', 'frame76.jpg', 'frame80.jpg', 'frame81.jpg', 'frame82.jpg', 'frame88.jpg', 'frame89.jpg', 'frame92.jpg', 'frame96.jpg', 'frame97.jpg', 'frame98.jpg', 'frame101.jpg', 'frame102.jpg', 'frame103.jpg', 'frame112.jpg', 'frame116.jpg', 'frame120.jpg', 'frame121.jpg', 'frame122.jpg', 'frame124.jpg', 'frame125.jpg', 'frame126.jpg', 'frame127.jpg', 'frame128.jpg', 'frame129.jpg', 'frame132.jpg', 'frame135.jpg', 'frame138.jpg', 'frame141.jpg', 'frame143.jpg', 'frame153.jpg', 'frame154.jpg', 'frame157.jpg', 'frame161.jpg', 'frame164.jpg', 'frame165.jpg', 'frame168.jpg', 'frame170.jpg', 'frame171.jpg', 'frame173.jpg', 'frame177.jpg', 'frame180.jpg', 'frame182.jpg', 'frame183.jpg', 'frame187.jpg', 'frame189.jpg', 'frame190.jpg', 'frame191.jpg', 'frame192.jpg', 'frame193.jpg', 'frame196.jpg', 'frame198.jpg', 'frame201.jpg', 'frame203.jpg', 'frame208.jpg', 'frame217.jpg', 'frame221.jpg', 'frame222.jpg', 'frame223.jpg', 'frame230.jpg', 'frame231.jpg', 'frame233.jpg', 'frame234.jpg', 'frame243.jpg', 'frame245.jpg', 'frame246.jpg', 'frame247.jpg', 'frame253.jpg', 'frame256.jpg', 'frame257.jpg', 'frame259.jpg', 'frame260.jpg', 'frame261.jpg', 'frame262.jpg', 'frame264.jpg', 'frame266.jpg', 'frame267.jpg', 'frame268.jpg', 'frame270.jpg', 'frame276.jpg', 'frame277.jpg', 'frame278.jpg', 'frame279.jpg', 'frame281.jpg', 'frame283.jpg', 'frame285.jpg', 'frame288.jpg', 'frame289.jpg', 'frame290.jpg', 'frame291.jpg', 'frame292.jpg', 'frame293.jpg', 'frame294.jpg', 'frame295.jpg', 'frame297.jpg', 'frame299.jpg', 'frame303.jpg', 'frame304.jpg', 'frame306.jpg', 'frame310.jpg', 'frame312.jpg', 'frame314.jpg', 'frame317.jpg', 'frame318.jpg', 'frame319.jpg', 'frame320.jpg', 'frame323.jpg', 'frame324.jpg', 'frame325.jpg', 'frame329.jpg', 'frame330.jpg', 'frame333.jpg', 'frame335.jpg', 'frame336.jpg', 'frame340.jpg', 'frame343.jpg', 'frame344.jpg', 'frame346.jpg', 'frame347.jpg', 'frame353.jpg', 'frame357.jpg', 'frame358.jpg', 'frame364.jpg', 'frame369.jpg', 'frame372.jpg', 'frame373.jpg', 'frame375.jpg', 'frame376.jpg', 'frame377.jpg', 'frame378.jpg', 'frame379.jpg', 'frame381.jpg', 'frame384.jpg', 'frame388.jpg']\n"
     ]
    }
   ],
   "source": [
    "count = 0\n",
    "l = os.listdir(os.path.join(basedir, POS_PATH))\n",
    "print(l)\n",
    "while count < 158:\n",
    "  i = l.pop(random.randint(0,len(l)-1))\n",
    "  ex_path = os.path.join(basedir, POS_PATH, i)\n",
    "  new_path = os.path.join(basedir, ANC_PATH)\n",
    "  count+=1\n",
    "  # os.system(f\"mv '{ex_path}' '{new_path}'\")\n",
    "  shutil.move(ex_path, new_path) "
   ]
  },
  {
   "cell_type": "code",
   "execution_count": 33,
   "metadata": {
    "executionInfo": {
     "elapsed": 2,
     "status": "ok",
     "timestamp": 1668485131275,
     "user": {
      "displayName": "Aritra Ranjan Chowdhury",
      "userId": "14354171114696885282"
     },
     "user_tz": -330
    },
    "id": "I7ZcW5ZYTsyg"
   },
   "outputs": [],
   "source": [
    "count = 0\n",
    "l = os.listdir(os.path.join(basedir, POS_PATH))\n",
    "length = len(l)\n",
    "\n",
    "while count < length-158:\n",
    "  i = l.pop(random.randint(0,len(l)-1))\n",
    "  ex_path = os.path.join(basedir, POS_PATH, i)\n",
    "  new_path = os.path.join(basedir, \"demo\")\n",
    "  count+=1\n",
    "  # os.system(f\"mv '{ex_path}' '{new_path}'\")\n",
    "  shutil.move(ex_path, new_path) \n"
   ]
  },
  {
   "cell_type": "code",
   "execution_count": null,
   "metadata": {
    "id": "1uU9yfn4SU8v"
   },
   "outputs": [],
   "source": []
  },
  {
   "cell_type": "markdown",
   "metadata": {
    "id": "ne0BUpLDWvrh"
   },
   "source": [
    "## Data Pre Processing "
   ]
  },
  {
   "cell_type": "code",
   "execution_count": 35,
   "metadata": {
    "executionInfo": {
     "elapsed": 5702,
     "status": "ok",
     "timestamp": 1668485153228,
     "user": {
      "displayName": "Aritra Ranjan Chowdhury",
      "userId": "14354171114696885282"
     },
     "user_tz": -330
    },
    "id": "r0p812L7WzAA"
   },
   "outputs": [],
   "source": [
    "# imports \n",
    "import tensorflow as tf \n",
    "    "
   ]
  },
  {
   "cell_type": "code",
   "execution_count": 86,
   "metadata": {
    "executionInfo": {
     "elapsed": 876,
     "status": "ok",
     "timestamp": 1668486194180,
     "user": {
      "displayName": "Aritra Ranjan Chowdhury",
      "userId": "14354171114696885282"
     },
     "user_tz": -330
    },
    "id": "tZu4qc4-YByM"
   },
   "outputs": [],
   "source": [
    "# Data \n",
    "ancore = tf.data.Dataset.list_files(os.path.join(basedir+ANC_PATH, \"*.jpg\")).take(150)\n",
    "positive = tf.data.Dataset.list_files(os.path.join(basedir+POS_PATH, \"*.jpg\")).take(150)\n",
    "negative = tf.data.Dataset.list_files(os.path.join(basedir+NEG_PATH, \"*.jpg\")).take(150)"
   ]
  },
  {
   "cell_type": "code",
   "execution_count": 87,
   "metadata": {
    "colab": {
     "base_uri": "https://localhost:8080/"
    },
    "executionInfo": {
     "elapsed": 7,
     "status": "ok",
     "timestamp": 1668486194880,
     "user": {
      "displayName": "Aritra Ranjan Chowdhury",
      "userId": "14354171114696885282"
     },
     "user_tz": -330
    },
    "id": "jNghFSFZzkCw",
    "outputId": "7f92fe24-2363-44fa-9e3a-4f204004a792"
   },
   "outputs": [
    {
     "data": {
      "text/plain": [
       "150"
      ]
     },
     "execution_count": 87,
     "metadata": {},
     "output_type": "execute_result"
    }
   ],
   "source": [
    "len(ancore)"
   ]
  },
  {
   "cell_type": "code",
   "execution_count": 88,
   "metadata": {
    "colab": {
     "base_uri": "https://localhost:8080/"
    },
    "executionInfo": {
     "elapsed": 5,
     "status": "ok",
     "timestamp": 1668486194881,
     "user": {
      "displayName": "Aritra Ranjan Chowdhury",
      "userId": "14354171114696885282"
     },
     "user_tz": -330
    },
    "id": "8sfq9gnDYnKD",
    "outputId": "dfb60592-92f0-4aa2-bb2e-8c62704e3780"
   },
   "outputs": [
    {
     "data": {
      "text/plain": [
       "b'/content/gdrive/MyDrive/FaceRecognation/data/ancore/frame114.jpg'"
      ]
     },
     "execution_count": 88,
     "metadata": {},
     "output_type": "execute_result"
    }
   ],
   "source": [
    "demo = ancore.as_numpy_iterator()\n",
    "demo.next()"
   ]
  },
  {
   "cell_type": "markdown",
   "metadata": {
    "id": "VwZctri5ZNrk"
   },
   "source": [
    "### Pre Process "
   ]
  },
  {
   "cell_type": "code",
   "execution_count": 148,
   "metadata": {
    "executionInfo": {
     "elapsed": 731,
     "status": "ok",
     "timestamp": 1668488530254,
     "user": {
      "displayName": "Aritra Ranjan Chowdhury",
      "userId": "14354171114696885282"
     },
     "user_tz": -330
    },
    "id": "szxFuKYyY-Xf"
   },
   "outputs": [],
   "source": [
    "def pre_process_img(path):\n",
    "  # Reading on tensorflow \n",
    "  img = tf.io.read_file(path)\n",
    "  img = tf.io.decode_jpeg(img)\n",
    "  img = tf.image.resize(img, (200,200))\n",
    "  img = img/255.0\n",
    "  return img  \n"
   ]
  },
  {
   "cell_type": "code",
   "execution_count": 165,
   "metadata": {
    "colab": {
     "base_uri": "https://localhost:8080/",
     "height": 286
    },
    "executionInfo": {
     "elapsed": 1217,
     "status": "ok",
     "timestamp": 1668489239635,
     "user": {
      "displayName": "Aritra Ranjan Chowdhury",
      "userId": "14354171114696885282"
     },
     "user_tz": -330
    },
    "id": "6lOOg9IkgFt1",
    "outputId": "ae543502-dce7-4f03-c6e1-72f6420eefd5"
   },
   "outputs": [
    {
     "data": {
      "text/plain": [
       "<matplotlib.image.AxesImage at 0x7fd08d19b350>"
      ]
     },
     "execution_count": 165,
     "metadata": {},
     "output_type": "execute_result"
    },
    {
     "data": {
      "image/png": "[encoded data removed]",
      "text/plain": [
       "<Figure size 432x288 with 1 Axes>"
      ]
     },
     "metadata": {
      "needs_background": "light"
     },
     "output_type": "display_data"
    }
   ],
   "source": [
    "plt.imshow(pre_process_img('/content/gdrive/MyDrive/FaceRecognation/data/negative/Gloria_Macapagal_Arroyo_0029.jpg'))\n",
    "\n",
    "  #b''"
   ]
  },
  {
   "cell_type": "code",
   "execution_count": 150,
   "metadata": {
    "executionInfo": {
     "elapsed": 2,
     "status": "ok",
     "timestamp": 1668488535476,
     "user": {
      "displayName": "Aritra Ranjan Chowdhury",
      "userId": "14354171114696885282"
     },
     "user_tz": -330
    },
    "id": "wv_R1q2rbONo"
   },
   "outputs": [],
   "source": [
    "positives = tf.data.Dataset.zip((ancore, positive, tf.data.Dataset.from_tensor_slices(tf.ones(len(ancore)))))\n",
    "negatives = tf.data.Dataset.zip((ancore, negative, tf.data.Dataset.from_tensor_slices(tf.zeros(len(ancore)))))\n",
    "data = positives.concatenate(negatives)"
   ]
  },
  {
   "cell_type": "code",
   "execution_count": 151,
   "metadata": {
    "executionInfo": {
     "elapsed": 3,
     "status": "ok",
     "timestamp": 1668488578030,
     "user": {
      "displayName": "Aritra Ranjan Chowdhury",
      "userId": "14354171114696885282"
     },
     "user_tz": -330
    },
    "id": "DD9GkqHMp641"
   },
   "outputs": [],
   "source": [
    "f=data.as_numpy_iterator()"
   ]
  },
  {
   "cell_type": "code",
   "execution_count": 152,
   "metadata": {
    "colab": {
     "base_uri": "https://localhost:8080/"
    },
    "executionInfo": {
     "elapsed": 4,
     "status": "ok",
     "timestamp": 1668488578031,
     "user": {
      "displayName": "Aritra Ranjan Chowdhury",
      "userId": "14354171114696885282"
     },
     "user_tz": -330
    },
    "id": "ghQD60QxiX8d",
    "outputId": "7d7970b0-49f6-4663-ab1a-deacf842b70d"
   },
   "outputs": [
    {
     "data": {
      "text/plain": [
       "(b'/content/gdrive/MyDrive/FaceRecognation/data/ancore/frame322.jpg',\n",
       " b'/content/gdrive/MyDrive/FaceRecognation/data/positive/frame145.jpg',\n",
       " 1.0)"
      ]
     },
     "execution_count": 152,
     "metadata": {},
     "output_type": "execute_result"
    }
   ],
   "source": [
    "f.next()"
   ]
  },
  {
   "cell_type": "code",
   "execution_count": 153,
   "metadata": {
    "executionInfo": {
     "elapsed": 1,
     "status": "ok",
     "timestamp": 1668488579357,
     "user": {
      "displayName": "Aritra Ranjan Chowdhury",
      "userId": "14354171114696885282"
     },
     "user_tz": -330
    },
    "id": "EYT14v6OqLr1"
   },
   "outputs": [],
   "source": [
    "def matrix_data_generator(*data):\n",
    "  # return (pre_process_img(input), pre_process_img(validation), label )\n",
    "  return (pre_process_img(data[0]), pre_process_img(data[1]), data[2] )"
   ]
  },
  {
   "cell_type": "code",
   "execution_count": 157,
   "metadata": {
    "colab": {
     "base_uri": "https://localhost:8080/",
     "height": 1000
    },
    "executionInfo": {
     "elapsed": 3481,
     "status": "error",
     "timestamp": 1668488885824,
     "user": {
      "displayName": "Aritra Ranjan Chowdhury",
      "userId": "14354171114696885282"
     },
     "user_tz": -330
    },
    "id": "T0IGQRalrHBf",
    "outputId": "3bcad0f9-e53f-4420-b372-b4d04be217df"
   },
   "outputs": [
    {
     "name": "stdout",
     "output_type": "stream",
     "text": [
      "<class 'tuple'>\n",
      "<class 'tuple'>\n",
      "<class 'tuple'>\n",
      "<class 'tuple'>\n",
      "<class 'tuple'>\n",
      "<class 'tuple'>\n",
      "<class 'tuple'>\n",
      "<class 'tuple'>\n",
      "<class 'tuple'>\n",
      "<class 'tuple'>\n",
      "<class 'tuple'>\n",
      "<class 'tuple'>\n",
      "<class 'tuple'>\n",
      "<class 'tuple'>\n",
      "<class 'tuple'>\n",
      "<class 'tuple'>\n",
      "<class 'tuple'>\n",
      "<class 'tuple'>\n",
      "<class 'tuple'>\n",
      "<class 'tuple'>\n",
      "<class 'tuple'>\n",
      "<class 'tuple'>\n",
      "<class 'tuple'>\n",
      "<class 'tuple'>\n",
      "<class 'tuple'>\n",
      "<class 'tuple'>\n",
      "<class 'tuple'>\n",
      "<class 'tuple'>\n",
      "<class 'tuple'>\n",
      "<class 'tuple'>\n",
      "<class 'tuple'>\n",
      "<class 'tuple'>\n",
      "<class 'tuple'>\n",
      "<class 'tuple'>\n",
      "<class 'tuple'>\n",
      "<class 'tuple'>\n",
      "<class 'tuple'>\n",
      "<class 'tuple'>\n",
      "<class 'tuple'>\n",
      "<class 'tuple'>\n",
      "<class 'tuple'>\n",
      "<class 'tuple'>\n",
      "<class 'tuple'>\n",
      "<class 'tuple'>\n",
      "<class 'tuple'>\n",
      "<class 'tuple'>\n",
      "<class 'tuple'>\n",
      "<class 'tuple'>\n",
      "<class 'tuple'>\n",
      "<class 'tuple'>\n",
      "<class 'tuple'>\n",
      "<class 'tuple'>\n",
      "<class 'tuple'>\n",
      "<class 'tuple'>\n",
      "<class 'tuple'>\n",
      "<class 'tuple'>\n",
      "<class 'tuple'>\n",
      "<class 'tuple'>\n",
      "<class 'tuple'>\n",
      "<class 'tuple'>\n",
      "<class 'tuple'>\n",
      "<class 'tuple'>\n",
      "<class 'tuple'>\n",
      "<class 'tuple'>\n",
      "<class 'tuple'>\n",
      "<class 'tuple'>\n",
      "<class 'tuple'>\n",
      "<class 'tuple'>\n",
      "<class 'tuple'>\n",
      "<class 'tuple'>\n",
      "<class 'tuple'>\n",
      "<class 'tuple'>\n",
      "<class 'tuple'>\n",
      "<class 'tuple'>\n",
      "<class 'tuple'>\n",
      "<class 'tuple'>\n",
      "<class 'tuple'>\n",
      "<class 'tuple'>\n",
      "<class 'tuple'>\n",
      "<class 'tuple'>\n",
      "<class 'tuple'>\n",
      "<class 'tuple'>\n",
      "<class 'tuple'>\n",
      "<class 'tuple'>\n",
      "<class 'tuple'>\n",
      "<class 'tuple'>\n",
      "<class 'tuple'>\n",
      "<class 'tuple'>\n",
      "<class 'tuple'>\n",
      "<class 'tuple'>\n",
      "<class 'tuple'>\n",
      "<class 'tuple'>\n",
      "<class 'tuple'>\n",
      "<class 'tuple'>\n",
      "<class 'tuple'>\n",
      "<class 'tuple'>\n",
      "<class 'tuple'>\n",
      "<class 'tuple'>\n",
      "<class 'tuple'>\n",
      "<class 'tuple'>\n",
      "<class 'tuple'>\n",
      "<class 'tuple'>\n",
      "<class 'tuple'>\n",
      "<class 'tuple'>\n",
      "<class 'tuple'>\n",
      "<class 'tuple'>\n",
      "<class 'tuple'>\n",
      "<class 'tuple'>\n",
      "<class 'tuple'>\n",
      "<class 'tuple'>\n",
      "<class 'tuple'>\n",
      "<class 'tuple'>\n",
      "<class 'tuple'>\n",
      "<class 'tuple'>\n",
      "<class 'tuple'>\n",
      "<class 'tuple'>\n",
      "<class 'tuple'>\n",
      "<class 'tuple'>\n",
      "<class 'tuple'>\n",
      "<class 'tuple'>\n",
      "<class 'tuple'>\n",
      "<class 'tuple'>\n",
      "<class 'tuple'>\n",
      "<class 'tuple'>\n",
      "<class 'tuple'>\n",
      "<class 'tuple'>\n",
      "<class 'tuple'>\n",
      "<class 'tuple'>\n",
      "<class 'tuple'>\n",
      "<class 'tuple'>\n",
      "<class 'tuple'>\n",
      "<class 'tuple'>\n",
      "<class 'tuple'>\n",
      "<class 'tuple'>\n",
      "<class 'tuple'>\n",
      "<class 'tuple'>\n",
      "<class 'tuple'>\n",
      "<class 'tuple'>\n",
      "<class 'tuple'>\n",
      "<class 'tuple'>\n",
      "<class 'tuple'>\n",
      "<class 'tuple'>\n",
      "<class 'tuple'>\n",
      "<class 'tuple'>\n",
      "<class 'tuple'>\n",
      "<class 'tuple'>\n",
      "<class 'tuple'>\n",
      "<class 'tuple'>\n",
      "<class 'tuple'>\n",
      "<class 'tuple'>\n",
      "<class 'tuple'>\n",
      "<class 'tuple'>\n",
      "<class 'tuple'>\n",
      "<class 'tuple'>\n",
      "<class 'tuple'>\n",
      "<class 'tuple'>\n",
      "<class 'tuple'>\n",
      "<class 'tuple'>\n",
      "<class 'tuple'>\n",
      "<class 'tuple'>\n",
      "<class 'tuple'>\n",
      "<class 'tuple'>\n",
      "<class 'tuple'>\n",
      "<class 'tuple'>\n",
      "<class 'tuple'>\n",
      "<class 'tuple'>\n",
      "<class 'tuple'>\n",
      "<class 'tuple'>\n",
      "<class 'tuple'>\n",
      "<class 'tuple'>\n",
      "<class 'tuple'>\n",
      "<class 'tuple'>\n",
      "<class 'tuple'>\n",
      "<class 'tuple'>\n",
      "<class 'tuple'>\n",
      "<class 'tuple'>\n",
      "<class 'tuple'>\n",
      "<class 'tuple'>\n",
      "<class 'tuple'>\n",
      "<class 'tuple'>\n",
      "<class 'tuple'>\n",
      "<class 'tuple'>\n"
     ]
    },
    {
     "ename": "InvalidArgumentError",
     "evalue": "ignored",
     "output_type": "error",
     "traceback": [
      "\u001b[0;31m---------------------------------------------------------------------------\u001b[0m",
      "\u001b[0;31mInvalidArgumentError\u001b[0m                      Traceback (most recent call last)",
      "\u001b[0;32m<ipython-input-157-26a4e413c311>\u001b[0m in \u001b[0;36m<module>\u001b[0;34m\u001b[0m\n\u001b[1;32m      1\u001b[0m \u001b[0mcount\u001b[0m \u001b[0;34m=\u001b[0m \u001b[0;36m0\u001b[0m\u001b[0;34m\u001b[0m\u001b[0;34m\u001b[0m\u001b[0m\n\u001b[1;32m      2\u001b[0m \u001b[0;32mfor\u001b[0m \u001b[0mi\u001b[0m \u001b[0;32min\u001b[0m \u001b[0mdata\u001b[0m \u001b[0;34m:\u001b[0m\u001b[0;34m\u001b[0m\u001b[0;34m\u001b[0m\u001b[0m\n\u001b[0;32m----> 3\u001b[0;31m     \u001b[0mprint\u001b[0m\u001b[0;34m(\u001b[0m\u001b[0mtype\u001b[0m\u001b[0;34m(\u001b[0m\u001b[0mmatrix_data_generator\u001b[0m\u001b[0;34m(\u001b[0m\u001b[0;34m*\u001b[0m\u001b[0mi\u001b[0m\u001b[0;34m)\u001b[0m\u001b[0;34m)\u001b[0m\u001b[0;34m)\u001b[0m\u001b[0;34m\u001b[0m\u001b[0;34m\u001b[0m\u001b[0m\n\u001b[0m\u001b[1;32m      4\u001b[0m     \u001b[0mcount\u001b[0m\u001b[0;34m+=\u001b[0m\u001b[0;36m1\u001b[0m\u001b[0;34m\u001b[0m\u001b[0;34m\u001b[0m\u001b[0m\n",
      "\u001b[0;32m<ipython-input-153-752948ca8a94>\u001b[0m in \u001b[0;36mmatrix_data_generator\u001b[0;34m(*data)\u001b[0m\n\u001b[1;32m      1\u001b[0m \u001b[0;32mdef\u001b[0m \u001b[0mmatrix_data_generator\u001b[0m\u001b[0;34m(\u001b[0m\u001b[0;34m*\u001b[0m\u001b[0mdata\u001b[0m\u001b[0;34m)\u001b[0m\u001b[0;34m:\u001b[0m\u001b[0;34m\u001b[0m\u001b[0;34m\u001b[0m\u001b[0m\n\u001b[1;32m      2\u001b[0m   \u001b[0;31m# return (pre_process_img(input), pre_process_img(validation), label )\u001b[0m\u001b[0;34m\u001b[0m\u001b[0;34m\u001b[0m\u001b[0;34m\u001b[0m\u001b[0m\n\u001b[0;32m----> 3\u001b[0;31m   \u001b[0;32mreturn\u001b[0m \u001b[0;34m(\u001b[0m\u001b[0mpre_process_img\u001b[0m\u001b[0;34m(\u001b[0m\u001b[0mdata\u001b[0m\u001b[0;34m[\u001b[0m\u001b[0;36m0\u001b[0m\u001b[0;34m]\u001b[0m\u001b[0;34m)\u001b[0m\u001b[0;34m,\u001b[0m \u001b[0mpre_process_img\u001b[0m\u001b[0;34m(\u001b[0m\u001b[0mdata\u001b[0m\u001b[0;34m[\u001b[0m\u001b[0;36m1\u001b[0m\u001b[0;34m]\u001b[0m\u001b[0;34m)\u001b[0m\u001b[0;34m,\u001b[0m \u001b[0mdata\u001b[0m\u001b[0;34m[\u001b[0m\u001b[0;36m2\u001b[0m\u001b[0;34m]\u001b[0m \u001b[0;34m)\u001b[0m\u001b[0;34m\u001b[0m\u001b[0;34m\u001b[0m\u001b[0m\n\u001b[0m",
      "\u001b[0;32m<ipython-input-148-433bca220b07>\u001b[0m in \u001b[0;36mpre_process_img\u001b[0;34m(path)\u001b[0m\n\u001b[1;32m      2\u001b[0m   \u001b[0;31m# Reading on tensorflow\u001b[0m\u001b[0;34m\u001b[0m\u001b[0;34m\u001b[0m\u001b[0;34m\u001b[0m\u001b[0m\n\u001b[1;32m      3\u001b[0m   \u001b[0mimg\u001b[0m \u001b[0;34m=\u001b[0m \u001b[0mtf\u001b[0m\u001b[0;34m.\u001b[0m\u001b[0mio\u001b[0m\u001b[0;34m.\u001b[0m\u001b[0mread_file\u001b[0m\u001b[0;34m(\u001b[0m\u001b[0mpath\u001b[0m\u001b[0;34m)\u001b[0m\u001b[0;34m\u001b[0m\u001b[0;34m\u001b[0m\u001b[0m\n\u001b[0;32m----> 4\u001b[0;31m   \u001b[0mimg\u001b[0m \u001b[0;34m=\u001b[0m \u001b[0mtf\u001b[0m\u001b[0;34m.\u001b[0m\u001b[0mio\u001b[0m\u001b[0;34m.\u001b[0m\u001b[0mdecode_jpeg\u001b[0m\u001b[0;34m(\u001b[0m\u001b[0mimg\u001b[0m\u001b[0;34m)\u001b[0m\u001b[0;34m\u001b[0m\u001b[0;34m\u001b[0m\u001b[0m\n\u001b[0m\u001b[1;32m      5\u001b[0m   \u001b[0mimg\u001b[0m \u001b[0;34m=\u001b[0m \u001b[0mtf\u001b[0m\u001b[0;34m.\u001b[0m\u001b[0mimage\u001b[0m\u001b[0;34m.\u001b[0m\u001b[0mresize\u001b[0m\u001b[0;34m(\u001b[0m\u001b[0mimg\u001b[0m\u001b[0;34m,\u001b[0m \u001b[0;34m(\u001b[0m\u001b[0;36m200\u001b[0m\u001b[0;34m,\u001b[0m\u001b[0;36m200\u001b[0m\u001b[0;34m)\u001b[0m\u001b[0;34m)\u001b[0m\u001b[0;34m\u001b[0m\u001b[0;34m\u001b[0m\u001b[0m\n\u001b[1;32m      6\u001b[0m   \u001b[0mimg\u001b[0m \u001b[0;34m=\u001b[0m \u001b[0mimg\u001b[0m\u001b[0;34m/\u001b[0m\u001b[0;36m255.0\u001b[0m\u001b[0;34m\u001b[0m\u001b[0;34m\u001b[0m\u001b[0m\n",
      "\u001b[0;32m/usr/local/lib/python3.7/dist-packages/tensorflow/python/ops/gen_image_ops.py\u001b[0m in \u001b[0;36mdecode_jpeg\u001b[0;34m(contents, channels, ratio, fancy_upscaling, try_recover_truncated, acceptable_fraction, dct_method, name)\u001b[0m\n\u001b[1;32m   1173\u001b[0m           \u001b[0mtry_recover_truncated\u001b[0m\u001b[0;34m=\u001b[0m\u001b[0mtry_recover_truncated\u001b[0m\u001b[0;34m,\u001b[0m\u001b[0;34m\u001b[0m\u001b[0;34m\u001b[0m\u001b[0m\n\u001b[1;32m   1174\u001b[0m           \u001b[0macceptable_fraction\u001b[0m\u001b[0;34m=\u001b[0m\u001b[0macceptable_fraction\u001b[0m\u001b[0;34m,\u001b[0m \u001b[0mdct_method\u001b[0m\u001b[0;34m=\u001b[0m\u001b[0mdct_method\u001b[0m\u001b[0;34m,\u001b[0m\u001b[0;34m\u001b[0m\u001b[0;34m\u001b[0m\u001b[0m\n\u001b[0;32m-> 1175\u001b[0;31m           name=name, ctx=_ctx)\n\u001b[0m\u001b[1;32m   1176\u001b[0m     \u001b[0;32mexcept\u001b[0m \u001b[0m_core\u001b[0m\u001b[0;34m.\u001b[0m\u001b[0m_SymbolicException\u001b[0m\u001b[0;34m:\u001b[0m\u001b[0;34m\u001b[0m\u001b[0;34m\u001b[0m\u001b[0m\n\u001b[1;32m   1177\u001b[0m       \u001b[0;32mpass\u001b[0m  \u001b[0;31m# Add nodes to the TensorFlow graph.\u001b[0m\u001b[0;34m\u001b[0m\u001b[0;34m\u001b[0m\u001b[0m\n",
      "\u001b[0;32m/usr/local/lib/python3.7/dist-packages/tensorflow/python/ops/gen_image_ops.py\u001b[0m in \u001b[0;36mdecode_jpeg_eager_fallback\u001b[0;34m(contents, channels, ratio, fancy_upscaling, try_recover_truncated, acceptable_fraction, dct_method, name, ctx)\u001b[0m\n\u001b[1;32m   1243\u001b[0m   \"acceptable_fraction\", acceptable_fraction, \"dct_method\", dct_method)\n\u001b[1;32m   1244\u001b[0m   _result = _execute.execute(b\"DecodeJpeg\", 1, inputs=_inputs_flat,\n\u001b[0;32m-> 1245\u001b[0;31m                              attrs=_attrs, ctx=ctx, name=name)\n\u001b[0m\u001b[1;32m   1246\u001b[0m   \u001b[0;32mif\u001b[0m \u001b[0m_execute\u001b[0m\u001b[0;34m.\u001b[0m\u001b[0mmust_record_gradient\u001b[0m\u001b[0;34m(\u001b[0m\u001b[0;34m)\u001b[0m\u001b[0;34m:\u001b[0m\u001b[0;34m\u001b[0m\u001b[0;34m\u001b[0m\u001b[0m\n\u001b[1;32m   1247\u001b[0m     _execute.record_gradient(\n",
      "\u001b[0;32m/usr/local/lib/python3.7/dist-packages/tensorflow/python/eager/execute.py\u001b[0m in \u001b[0;36mquick_execute\u001b[0;34m(op_name, num_outputs, inputs, attrs, ctx, name)\u001b[0m\n\u001b[1;32m     53\u001b[0m     \u001b[0mctx\u001b[0m\u001b[0;34m.\u001b[0m\u001b[0mensure_initialized\u001b[0m\u001b[0;34m(\u001b[0m\u001b[0;34m)\u001b[0m\u001b[0;34m\u001b[0m\u001b[0;34m\u001b[0m\u001b[0m\n\u001b[1;32m     54\u001b[0m     tensors = pywrap_tfe.TFE_Py_Execute(ctx._handle, device_name, op_name,\n\u001b[0;32m---> 55\u001b[0;31m                                         inputs, attrs, num_outputs)\n\u001b[0m\u001b[1;32m     56\u001b[0m   \u001b[0;32mexcept\u001b[0m \u001b[0mcore\u001b[0m\u001b[0;34m.\u001b[0m\u001b[0m_NotOkStatusException\u001b[0m \u001b[0;32mas\u001b[0m \u001b[0me\u001b[0m\u001b[0;34m:\u001b[0m\u001b[0;34m\u001b[0m\u001b[0;34m\u001b[0m\u001b[0m\n\u001b[1;32m     57\u001b[0m     \u001b[0;32mif\u001b[0m \u001b[0mname\u001b[0m \u001b[0;32mis\u001b[0m \u001b[0;32mnot\u001b[0m \u001b[0;32mNone\u001b[0m\u001b[0;34m:\u001b[0m\u001b[0;34m\u001b[0m\u001b[0;34m\u001b[0m\u001b[0m\n",
      "\u001b[0;31mInvalidArgumentError\u001b[0m: jpeg::Uncompress failed. Invalid JPEG data or crop window. [Op:DecodeJpeg]"
     ]
    }
   ],
   "source": [
    "count = 0 \n",
    "for i in data :\n",
    "    print(type(matrix_data_generator(*i)))\n",
    "    count+=1"
   ]
  },
  {
   "cell_type": "code",
   "execution_count": 163,
   "metadata": {
    "colab": {
     "base_uri": "https://localhost:8080/"
    },
    "executionInfo": {
     "elapsed": 3,
     "status": "ok",
     "timestamp": 1668489136378,
     "user": {
      "displayName": "Aritra Ranjan Chowdhury",
      "userId": "14354171114696885282"
     },
     "user_tz": -330
    },
    "id": "OtkHaaOxoDbV",
    "outputId": "e2f4b405-ae87-4f18-940f-032cf20601a3"
   },
   "outputs": [
    {
     "data": {
      "text/plain": [
       "(182,\n",
       " (b'/content/gdrive/MyDrive/FaceRecognation/data/ancore/frame303.jpg',\n",
       "  b'/content/gdrive/MyDrive/FaceRecognation/data/negative/Gloria_Macapagal_Arroyo_0029.jpg',\n",
       "  0.0))"
      ]
     },
     "execution_count": 163,
     "metadata": {},
     "output_type": "execute_result"
    }
   ],
   "source": [
    "count, list(data.as_numpy_iterator())[182]"
   ]
  },
  {
   "cell_type": "code",
   "execution_count": 166,
   "metadata": {
    "executionInfo": {
     "elapsed": 56846,
     "status": "ok",
     "timestamp": 1668489350154,
     "user": {
      "displayName": "Aritra Ranjan Chowdhury",
      "userId": "14354171114696885282"
     },
     "user_tz": -330
    },
    "id": "F2zP0Af7vY8I"
   },
   "outputs": [],
   "source": [
    "# Actual Image Data Produce \n",
    "data2 = data.map(matrix_data_generator)\n",
    "data2 = data2.cache()\n",
    "data2 = data2.shuffle(buffer_size = 1024)"
   ]
  },
  {
   "cell_type": "code",
   "execution_count": 130,
   "metadata": {
    "colab": {
     "base_uri": "https://localhost:8080/"
    },
    "executionInfo": {
     "elapsed": 389,
     "status": "ok",
     "timestamp": 1668488205139,
     "user": {
      "displayName": "Aritra Ranjan Chowdhury",
      "userId": "14354171114696885282"
     },
     "user_tz": -330
    },
    "id": "84GIwSg5zPOI",
    "outputId": "4fdaa214-2190-46d3-ba75-a8c8a11b4450"
   },
   "outputs": [
    {
     "data": {
      "text/plain": [
       "(<ConcatenateDataset element_spec=(TensorSpec(shape=(), dtype=tf.string, name=None), TensorSpec(shape=(), dtype=tf.string, name=None), TensorSpec(shape=(), dtype=tf.float32, name=None))>,\n",
       " <ShuffleDataset element_spec=(TensorSpec(shape=(200, 200, None), dtype=tf.float32, name=None), TensorSpec(shape=(200, 200, None), dtype=tf.float32, name=None), TensorSpec(shape=(), dtype=tf.float32, name=None))>)"
      ]
     },
     "execution_count": 130,
     "metadata": {},
     "output_type": "execute_result"
    }
   ],
   "source": [
    "data,data2"
   ]
  },
  {
   "cell_type": "code",
   "execution_count": 167,
   "metadata": {
    "colab": {
     "base_uri": "https://localhost:8080/"
    },
    "executionInfo": {
     "elapsed": 443,
     "status": "ok",
     "timestamp": 1668489442817,
     "user": {
      "displayName": "Aritra Ranjan Chowdhury",
      "userId": "14354171114696885282"
     },
     "user_tz": -330
    },
    "id": "S05iD_W_kBwW",
    "outputId": "ec73743e-09c3-43e8-89c6-a646519b7e61"
   },
   "outputs": [
    {
     "data": {
      "text/plain": [
       "tensorflow.python.data.ops.dataset_ops.ShuffleDataset"
      ]
     },
     "execution_count": 167,
     "metadata": {},
     "output_type": "execute_result"
    }
   ],
   "source": [
    "type(data2)"
   ]
  },
  {
   "cell_type": "code",
   "execution_count": 168,
   "metadata": {
    "colab": {
     "base_uri": "https://localhost:8080/",
     "height": 329
    },
    "executionInfo": {
     "elapsed": 685,
     "status": "error",
     "timestamp": 1668489446446,
     "user": {
      "displayName": "Aritra Ranjan Chowdhury",
      "userId": "14354171114696885282"
     },
     "user_tz": -330
    },
    "id": "LmjNvYnDDWzN",
    "outputId": "3157f212-fb66-492f-99a9-1271df2ee9d0"
   },
   "outputs": [
    {
     "ename": "InvalidArgumentError",
     "evalue": "ignored",
     "output_type": "error",
     "traceback": [
      "\u001b[0;31m---------------------------------------------------------------------------\u001b[0m",
      "\u001b[0;31mInvalidArgumentError\u001b[0m                      Traceback (most recent call last)",
      "\u001b[0;32m<ipython-input-168-5df6325fbee5>\u001b[0m in \u001b[0;36m<module>\u001b[0;34m\u001b[0m\n\u001b[0;32m----> 1\u001b[0;31m \u001b[0msample\u001b[0m \u001b[0;34m=\u001b[0m \u001b[0mlist\u001b[0m\u001b[0;34m(\u001b[0m\u001b[0mdata2\u001b[0m\u001b[0;34m.\u001b[0m\u001b[0mas_numpy_iterator\u001b[0m\u001b[0;34m(\u001b[0m\u001b[0;34m)\u001b[0m\u001b[0;34m)\u001b[0m\u001b[0;34m\u001b[0m\u001b[0;34m\u001b[0m\u001b[0m\n\u001b[0m",
      "\u001b[0;32m/usr/local/lib/python3.7/dist-packages/tensorflow/python/data/ops/dataset_ops.py\u001b[0m in \u001b[0;36m__next__\u001b[0;34m(self)\u001b[0m\n\u001b[1;32m   4476\u001b[0m       \u001b[0;32mreturn\u001b[0m \u001b[0mnumpy\u001b[0m\u001b[0;34m\u001b[0m\u001b[0;34m\u001b[0m\u001b[0m\n\u001b[1;32m   4477\u001b[0m \u001b[0;34m\u001b[0m\u001b[0m\n\u001b[0;32m-> 4478\u001b[0;31m     \u001b[0;32mreturn\u001b[0m \u001b[0mnest\u001b[0m\u001b[0;34m.\u001b[0m\u001b[0mmap_structure\u001b[0m\u001b[0;34m(\u001b[0m\u001b[0mto_numpy\u001b[0m\u001b[0;34m,\u001b[0m \u001b[0mnext\u001b[0m\u001b[0;34m(\u001b[0m\u001b[0mself\u001b[0m\u001b[0;34m.\u001b[0m\u001b[0m_iterator\u001b[0m\u001b[0;34m)\u001b[0m\u001b[0;34m)\u001b[0m\u001b[0;34m\u001b[0m\u001b[0;34m\u001b[0m\u001b[0m\n\u001b[0m\u001b[1;32m   4479\u001b[0m \u001b[0;34m\u001b[0m\u001b[0m\n\u001b[1;32m   4480\u001b[0m   \u001b[0;32mdef\u001b[0m \u001b[0mnext\u001b[0m\u001b[0;34m(\u001b[0m\u001b[0mself\u001b[0m\u001b[0;34m)\u001b[0m\u001b[0;34m:\u001b[0m\u001b[0;34m\u001b[0m\u001b[0;34m\u001b[0m\u001b[0m\n",
      "\u001b[0;32m/usr/local/lib/python3.7/dist-packages/tensorflow/python/data/ops/iterator_ops.py\u001b[0m in \u001b[0;36m__next__\u001b[0;34m(self)\u001b[0m\n\u001b[1;32m    764\u001b[0m   \u001b[0;32mdef\u001b[0m \u001b[0m__next__\u001b[0m\u001b[0;34m(\u001b[0m\u001b[0mself\u001b[0m\u001b[0;34m)\u001b[0m\u001b[0;34m:\u001b[0m\u001b[0;34m\u001b[0m\u001b[0;34m\u001b[0m\u001b[0m\n\u001b[1;32m    765\u001b[0m     \u001b[0;32mtry\u001b[0m\u001b[0;34m:\u001b[0m\u001b[0;34m\u001b[0m\u001b[0;34m\u001b[0m\u001b[0m\n\u001b[0;32m--> 766\u001b[0;31m       \u001b[0;32mreturn\u001b[0m \u001b[0mself\u001b[0m\u001b[0;34m.\u001b[0m\u001b[0m_next_internal\u001b[0m\u001b[0;34m(\u001b[0m\u001b[0;34m)\u001b[0m\u001b[0;34m\u001b[0m\u001b[0;34m\u001b[0m\u001b[0m\n\u001b[0m\u001b[1;32m    767\u001b[0m     \u001b[0;32mexcept\u001b[0m \u001b[0merrors\u001b[0m\u001b[0;34m.\u001b[0m\u001b[0mOutOfRangeError\u001b[0m\u001b[0;34m:\u001b[0m\u001b[0;34m\u001b[0m\u001b[0;34m\u001b[0m\u001b[0m\n\u001b[1;32m    768\u001b[0m       \u001b[0;32mraise\u001b[0m \u001b[0mStopIteration\u001b[0m\u001b[0;34m\u001b[0m\u001b[0;34m\u001b[0m\u001b[0m\n",
      "\u001b[0;32m/usr/local/lib/python3.7/dist-packages/tensorflow/python/data/ops/iterator_ops.py\u001b[0m in \u001b[0;36m_next_internal\u001b[0;34m(self)\u001b[0m\n\u001b[1;32m    750\u001b[0m           \u001b[0mself\u001b[0m\u001b[0;34m.\u001b[0m\u001b[0m_iterator_resource\u001b[0m\u001b[0;34m,\u001b[0m\u001b[0;34m\u001b[0m\u001b[0;34m\u001b[0m\u001b[0m\n\u001b[1;32m    751\u001b[0m           \u001b[0moutput_types\u001b[0m\u001b[0;34m=\u001b[0m\u001b[0mself\u001b[0m\u001b[0;34m.\u001b[0m\u001b[0m_flat_output_types\u001b[0m\u001b[0;34m,\u001b[0m\u001b[0;34m\u001b[0m\u001b[0;34m\u001b[0m\u001b[0m\n\u001b[0;32m--> 752\u001b[0;31m           output_shapes=self._flat_output_shapes)\n\u001b[0m\u001b[1;32m    753\u001b[0m \u001b[0;34m\u001b[0m\u001b[0m\n\u001b[1;32m    754\u001b[0m       \u001b[0;32mtry\u001b[0m\u001b[0;34m:\u001b[0m\u001b[0;34m\u001b[0m\u001b[0;34m\u001b[0m\u001b[0m\n",
      "\u001b[0;32m/usr/local/lib/python3.7/dist-packages/tensorflow/python/ops/gen_dataset_ops.py\u001b[0m in \u001b[0;36miterator_get_next\u001b[0;34m(iterator, output_types, output_shapes, name)\u001b[0m\n\u001b[1;32m   3015\u001b[0m       \u001b[0;32mreturn\u001b[0m \u001b[0m_result\u001b[0m\u001b[0;34m\u001b[0m\u001b[0;34m\u001b[0m\u001b[0m\n\u001b[1;32m   3016\u001b[0m     \u001b[0;32mexcept\u001b[0m \u001b[0m_core\u001b[0m\u001b[0;34m.\u001b[0m\u001b[0m_NotOkStatusException\u001b[0m \u001b[0;32mas\u001b[0m \u001b[0me\u001b[0m\u001b[0;34m:\u001b[0m\u001b[0;34m\u001b[0m\u001b[0;34m\u001b[0m\u001b[0m\n\u001b[0;32m-> 3017\u001b[0;31m       \u001b[0m_ops\u001b[0m\u001b[0;34m.\u001b[0m\u001b[0mraise_from_not_ok_status\u001b[0m\u001b[0;34m(\u001b[0m\u001b[0me\u001b[0m\u001b[0;34m,\u001b[0m \u001b[0mname\u001b[0m\u001b[0;34m)\u001b[0m\u001b[0;34m\u001b[0m\u001b[0;34m\u001b[0m\u001b[0m\n\u001b[0m\u001b[1;32m   3018\u001b[0m     \u001b[0;32mexcept\u001b[0m \u001b[0m_core\u001b[0m\u001b[0;34m.\u001b[0m\u001b[0m_FallbackException\u001b[0m\u001b[0;34m:\u001b[0m\u001b[0;34m\u001b[0m\u001b[0;34m\u001b[0m\u001b[0m\n\u001b[1;32m   3019\u001b[0m       \u001b[0;32mpass\u001b[0m\u001b[0;34m\u001b[0m\u001b[0;34m\u001b[0m\u001b[0m\n",
      "\u001b[0;32m/usr/local/lib/python3.7/dist-packages/tensorflow/python/framework/ops.py\u001b[0m in \u001b[0;36mraise_from_not_ok_status\u001b[0;34m(e, name)\u001b[0m\n\u001b[1;32m   7162\u001b[0m \u001b[0;32mdef\u001b[0m \u001b[0mraise_from_not_ok_status\u001b[0m\u001b[0;34m(\u001b[0m\u001b[0me\u001b[0m\u001b[0;34m,\u001b[0m \u001b[0mname\u001b[0m\u001b[0;34m)\u001b[0m\u001b[0;34m:\u001b[0m\u001b[0;34m\u001b[0m\u001b[0;34m\u001b[0m\u001b[0m\n\u001b[1;32m   7163\u001b[0m   \u001b[0me\u001b[0m\u001b[0;34m.\u001b[0m\u001b[0mmessage\u001b[0m \u001b[0;34m+=\u001b[0m \u001b[0;34m(\u001b[0m\u001b[0;34m\" name: \"\u001b[0m \u001b[0;34m+\u001b[0m \u001b[0mname\u001b[0m \u001b[0;32mif\u001b[0m \u001b[0mname\u001b[0m \u001b[0;32mis\u001b[0m \u001b[0;32mnot\u001b[0m \u001b[0;32mNone\u001b[0m \u001b[0;32melse\u001b[0m \u001b[0;34m\"\"\u001b[0m\u001b[0;34m)\u001b[0m\u001b[0;34m\u001b[0m\u001b[0;34m\u001b[0m\u001b[0m\n\u001b[0;32m-> 7164\u001b[0;31m   \u001b[0;32mraise\u001b[0m \u001b[0mcore\u001b[0m\u001b[0;34m.\u001b[0m\u001b[0m_status_to_exception\u001b[0m\u001b[0;34m(\u001b[0m\u001b[0me\u001b[0m\u001b[0;34m)\u001b[0m \u001b[0;32mfrom\u001b[0m \u001b[0;32mNone\u001b[0m  \u001b[0;31m# pylint: disable=protected-access\u001b[0m\u001b[0;34m\u001b[0m\u001b[0;34m\u001b[0m\u001b[0m\n\u001b[0m\u001b[1;32m   7165\u001b[0m \u001b[0;34m\u001b[0m\u001b[0m\n\u001b[1;32m   7166\u001b[0m \u001b[0;34m\u001b[0m\u001b[0m\n",
      "\u001b[0;31mInvalidArgumentError\u001b[0m: jpeg::Uncompress failed. Invalid JPEG data or crop window.\n\t [[{{node DecodeJpeg_1}}]] [Op:IteratorGetNext]"
     ]
    }
   ],
   "source": [
    "sample = list(data2.as_numpy_iterator())"
   ]
  },
  {
   "cell_type": "code",
   "execution_count": 52,
   "metadata": {
    "colab": {
     "base_uri": "https://localhost:8080/",
     "height": 563
    },
    "executionInfo": {
     "elapsed": 1012,
     "status": "error",
     "timestamp": 1668485275044,
     "user": {
      "displayName": "Aritra Ranjan Chowdhury",
      "userId": "14354171114696885282"
     },
     "user_tz": -330
    },
    "id": "3leDgDs2Mqq_",
    "outputId": "d5003633-1ccb-4f59-8822-57f0c9ad87cf"
   },
   "outputs": [
    {
     "ename": "TypeError",
     "evalue": "ignored",
     "output_type": "error",
     "traceback": [
      "\u001b[0;31m---------------------------------------------------------------------------\u001b[0m",
      "\u001b[0;31mTypeError\u001b[0m                                 Traceback (most recent call last)",
      "\u001b[0;32m<ipython-input-52-c07c096eca66>\u001b[0m in \u001b[0;36m<module>\u001b[0;34m\u001b[0m\n\u001b[0;32m----> 1\u001b[0;31m \u001b[0mplt\u001b[0m\u001b[0;34m.\u001b[0m\u001b[0mimshow\u001b[0m\u001b[0;34m(\u001b[0m\u001b[0msample\u001b[0m\u001b[0;34m[\u001b[0m\u001b[0;36m0\u001b[0m\u001b[0;34m]\u001b[0m\u001b[0;34m)\u001b[0m\u001b[0;34m\u001b[0m\u001b[0;34m\u001b[0m\u001b[0m\n\u001b[0m",
      "\u001b[0;32m/usr/local/lib/python3.7/dist-packages/matplotlib/pyplot.py\u001b[0m in \u001b[0;36mimshow\u001b[0;34m(X, cmap, norm, aspect, interpolation, alpha, vmin, vmax, origin, extent, shape, filternorm, filterrad, imlim, resample, url, data, **kwargs)\u001b[0m\n\u001b[1;32m   2649\u001b[0m         \u001b[0mfilternorm\u001b[0m\u001b[0;34m=\u001b[0m\u001b[0mfilternorm\u001b[0m\u001b[0;34m,\u001b[0m \u001b[0mfilterrad\u001b[0m\u001b[0;34m=\u001b[0m\u001b[0mfilterrad\u001b[0m\u001b[0;34m,\u001b[0m \u001b[0mimlim\u001b[0m\u001b[0;34m=\u001b[0m\u001b[0mimlim\u001b[0m\u001b[0;34m,\u001b[0m\u001b[0;34m\u001b[0m\u001b[0;34m\u001b[0m\u001b[0m\n\u001b[1;32m   2650\u001b[0m         resample=resample, url=url, **({\"data\": data} if data is not\n\u001b[0;32m-> 2651\u001b[0;31m         None else {}), **kwargs)\n\u001b[0m\u001b[1;32m   2652\u001b[0m     \u001b[0msci\u001b[0m\u001b[0;34m(\u001b[0m\u001b[0m__ret\u001b[0m\u001b[0;34m)\u001b[0m\u001b[0;34m\u001b[0m\u001b[0;34m\u001b[0m\u001b[0m\n\u001b[1;32m   2653\u001b[0m     \u001b[0;32mreturn\u001b[0m \u001b[0m__ret\u001b[0m\u001b[0;34m\u001b[0m\u001b[0;34m\u001b[0m\u001b[0m\n",
      "\u001b[0;32m/usr/local/lib/python3.7/dist-packages/matplotlib/__init__.py\u001b[0m in \u001b[0;36minner\u001b[0;34m(ax, data, *args, **kwargs)\u001b[0m\n\u001b[1;32m   1563\u001b[0m     \u001b[0;32mdef\u001b[0m \u001b[0minner\u001b[0m\u001b[0;34m(\u001b[0m\u001b[0max\u001b[0m\u001b[0;34m,\u001b[0m \u001b[0;34m*\u001b[0m\u001b[0margs\u001b[0m\u001b[0;34m,\u001b[0m \u001b[0mdata\u001b[0m\u001b[0;34m=\u001b[0m\u001b[0;32mNone\u001b[0m\u001b[0;34m,\u001b[0m \u001b[0;34m**\u001b[0m\u001b[0mkwargs\u001b[0m\u001b[0;34m)\u001b[0m\u001b[0;34m:\u001b[0m\u001b[0;34m\u001b[0m\u001b[0;34m\u001b[0m\u001b[0m\n\u001b[1;32m   1564\u001b[0m         \u001b[0;32mif\u001b[0m \u001b[0mdata\u001b[0m \u001b[0;32mis\u001b[0m \u001b[0;32mNone\u001b[0m\u001b[0;34m:\u001b[0m\u001b[0;34m\u001b[0m\u001b[0;34m\u001b[0m\u001b[0m\n\u001b[0;32m-> 1565\u001b[0;31m             \u001b[0;32mreturn\u001b[0m \u001b[0mfunc\u001b[0m\u001b[0;34m(\u001b[0m\u001b[0max\u001b[0m\u001b[0;34m,\u001b[0m \u001b[0;34m*\u001b[0m\u001b[0mmap\u001b[0m\u001b[0;34m(\u001b[0m\u001b[0msanitize_sequence\u001b[0m\u001b[0;34m,\u001b[0m \u001b[0margs\u001b[0m\u001b[0;34m)\u001b[0m\u001b[0;34m,\u001b[0m \u001b[0;34m**\u001b[0m\u001b[0mkwargs\u001b[0m\u001b[0;34m)\u001b[0m\u001b[0;34m\u001b[0m\u001b[0;34m\u001b[0m\u001b[0m\n\u001b[0m\u001b[1;32m   1566\u001b[0m \u001b[0;34m\u001b[0m\u001b[0m\n\u001b[1;32m   1567\u001b[0m         \u001b[0mbound\u001b[0m \u001b[0;34m=\u001b[0m \u001b[0mnew_sig\u001b[0m\u001b[0;34m.\u001b[0m\u001b[0mbind\u001b[0m\u001b[0;34m(\u001b[0m\u001b[0max\u001b[0m\u001b[0;34m,\u001b[0m \u001b[0;34m*\u001b[0m\u001b[0margs\u001b[0m\u001b[0;34m,\u001b[0m \u001b[0;34m**\u001b[0m\u001b[0mkwargs\u001b[0m\u001b[0;34m)\u001b[0m\u001b[0;34m\u001b[0m\u001b[0;34m\u001b[0m\u001b[0m\n",
      "\u001b[0;32m/usr/local/lib/python3.7/dist-packages/matplotlib/cbook/deprecation.py\u001b[0m in \u001b[0;36mwrapper\u001b[0;34m(*args, **kwargs)\u001b[0m\n\u001b[1;32m    356\u001b[0m                 \u001b[0;34mf\"%(removal)s.  If any parameter follows {name!r}, they \"\u001b[0m\u001b[0;34m\u001b[0m\u001b[0;34m\u001b[0m\u001b[0m\n\u001b[1;32m    357\u001b[0m                 f\"should be pass as keyword, not positionally.\")\n\u001b[0;32m--> 358\u001b[0;31m         \u001b[0;32mreturn\u001b[0m \u001b[0mfunc\u001b[0m\u001b[0;34m(\u001b[0m\u001b[0;34m*\u001b[0m\u001b[0margs\u001b[0m\u001b[0;34m,\u001b[0m \u001b[0;34m**\u001b[0m\u001b[0mkwargs\u001b[0m\u001b[0;34m)\u001b[0m\u001b[0;34m\u001b[0m\u001b[0;34m\u001b[0m\u001b[0m\n\u001b[0m\u001b[1;32m    359\u001b[0m \u001b[0;34m\u001b[0m\u001b[0m\n\u001b[1;32m    360\u001b[0m     \u001b[0;32mreturn\u001b[0m \u001b[0mwrapper\u001b[0m\u001b[0;34m\u001b[0m\u001b[0;34m\u001b[0m\u001b[0m\n",
      "\u001b[0;32m/usr/local/lib/python3.7/dist-packages/matplotlib/cbook/deprecation.py\u001b[0m in \u001b[0;36mwrapper\u001b[0;34m(*args, **kwargs)\u001b[0m\n\u001b[1;32m    356\u001b[0m                 \u001b[0;34mf\"%(removal)s.  If any parameter follows {name!r}, they \"\u001b[0m\u001b[0;34m\u001b[0m\u001b[0;34m\u001b[0m\u001b[0m\n\u001b[1;32m    357\u001b[0m                 f\"should be pass as keyword, not positionally.\")\n\u001b[0;32m--> 358\u001b[0;31m         \u001b[0;32mreturn\u001b[0m \u001b[0mfunc\u001b[0m\u001b[0;34m(\u001b[0m\u001b[0;34m*\u001b[0m\u001b[0margs\u001b[0m\u001b[0;34m,\u001b[0m \u001b[0;34m**\u001b[0m\u001b[0mkwargs\u001b[0m\u001b[0;34m)\u001b[0m\u001b[0;34m\u001b[0m\u001b[0;34m\u001b[0m\u001b[0m\n\u001b[0m\u001b[1;32m    359\u001b[0m \u001b[0;34m\u001b[0m\u001b[0m\n\u001b[1;32m    360\u001b[0m     \u001b[0;32mreturn\u001b[0m \u001b[0mwrapper\u001b[0m\u001b[0;34m\u001b[0m\u001b[0;34m\u001b[0m\u001b[0m\n",
      "\u001b[0;32m/usr/local/lib/python3.7/dist-packages/matplotlib/axes/_axes.py\u001b[0m in \u001b[0;36mimshow\u001b[0;34m(self, X, cmap, norm, aspect, interpolation, alpha, vmin, vmax, origin, extent, shape, filternorm, filterrad, imlim, resample, url, **kwargs)\u001b[0m\n\u001b[1;32m   5624\u001b[0m                               resample=resample, **kwargs)\n\u001b[1;32m   5625\u001b[0m \u001b[0;34m\u001b[0m\u001b[0m\n\u001b[0;32m-> 5626\u001b[0;31m         \u001b[0mim\u001b[0m\u001b[0;34m.\u001b[0m\u001b[0mset_data\u001b[0m\u001b[0;34m(\u001b[0m\u001b[0mX\u001b[0m\u001b[0;34m)\u001b[0m\u001b[0;34m\u001b[0m\u001b[0;34m\u001b[0m\u001b[0m\n\u001b[0m\u001b[1;32m   5627\u001b[0m         \u001b[0mim\u001b[0m\u001b[0;34m.\u001b[0m\u001b[0mset_alpha\u001b[0m\u001b[0;34m(\u001b[0m\u001b[0malpha\u001b[0m\u001b[0;34m)\u001b[0m\u001b[0;34m\u001b[0m\u001b[0;34m\u001b[0m\u001b[0m\n\u001b[1;32m   5628\u001b[0m         \u001b[0;32mif\u001b[0m \u001b[0mim\u001b[0m\u001b[0;34m.\u001b[0m\u001b[0mget_clip_path\u001b[0m\u001b[0;34m(\u001b[0m\u001b[0;34m)\u001b[0m \u001b[0;32mis\u001b[0m \u001b[0;32mNone\u001b[0m\u001b[0;34m:\u001b[0m\u001b[0;34m\u001b[0m\u001b[0;34m\u001b[0m\u001b[0m\n",
      "\u001b[0;32m/usr/local/lib/python3.7/dist-packages/matplotlib/image.py\u001b[0m in \u001b[0;36mset_data\u001b[0;34m(self, A)\u001b[0m\n\u001b[1;32m    692\u001b[0m                 not np.can_cast(self._A.dtype, float, \"same_kind\")):\n\u001b[1;32m    693\u001b[0m             raise TypeError(\"Image data of dtype {} cannot be converted to \"\n\u001b[0;32m--> 694\u001b[0;31m                             \"float\".format(self._A.dtype))\n\u001b[0m\u001b[1;32m    695\u001b[0m \u001b[0;34m\u001b[0m\u001b[0m\n\u001b[1;32m    696\u001b[0m         if not (self._A.ndim == 2\n",
      "\u001b[0;31mTypeError\u001b[0m: Image data of dtype object cannot be converted to float"
     ]
    },
    {
     "data": {
      "image/png": "[encoded data removed]",
      "text/plain": [
       "<Figure size 432x288 with 1 Axes>"
      ]
     },
     "metadata": {
      "needs_background": "light"
     },
     "output_type": "display_data"
    }
   ],
   "source": [
    "plt.imshow(sample[0])"
   ]
  },
  {
   "cell_type": "code",
   "execution_count": null,
   "metadata": {
    "colab": {
     "base_uri": "https://localhost:8080/",
     "height": 286
    },
    "executionInfo": {
     "elapsed": 9,
     "status": "ok",
     "timestamp": 1668313472788,
     "user": {
      "displayName": "Aritra Ranjan Chowdhury",
      "userId": "14354171114696885282"
     },
     "user_tz": -330
    },
    "id": "weMzo1MIM3vn",
    "outputId": "32519f3a-e7a0-4fab-9d8d-f54d28b79a82"
   },
   "outputs": [
    {
     "data": {
      "text/plain": [
       "<matplotlib.image.AxesImage at 0x7f16ea5dab10>"
      ]
     },
     "execution_count": 148,
     "metadata": {},
     "output_type": "execute_result"
    },
    {
     "data": {
      "image/png": "[encoded data removed]",
      "text/plain": [
       "<Figure size 432x288 with 1 Axes>"
      ]
     },
     "metadata": {
      "needs_background": "light"
     },
     "output_type": "display_data"
    }
   ],
   "source": [
    "plt.imshow(sample[1])"
   ]
  },
  {
   "cell_type": "code",
   "execution_count": null,
   "metadata": {
    "colab": {
     "base_uri": "https://localhost:8080/"
    },
    "executionInfo": {
     "elapsed": 5,
     "status": "ok",
     "timestamp": 1668313473493,
     "user": {
      "displayName": "Aritra Ranjan Chowdhury",
      "userId": "14354171114696885282"
     },
     "user_tz": -330
    },
    "id": "0qvKzOePM6Uw",
    "outputId": "f6f182fc-cf08-4be6-dc00-f81ef2b77406"
   },
   "outputs": [
    {
     "data": {
      "text/plain": [
       "0.0"
      ]
     },
     "execution_count": 149,
     "metadata": {},
     "output_type": "execute_result"
    }
   ],
   "source": [
    "sample[2]"
   ]
  },
  {
   "cell_type": "code",
   "execution_count": null,
   "metadata": {
    "colab": {
     "base_uri": "https://localhost:8080/"
    },
    "executionInfo": {
     "elapsed": 773,
     "status": "ok",
     "timestamp": 1668313607594,
     "user": {
      "displayName": "Aritra Ranjan Chowdhury",
      "userId": "14354171114696885282"
     },
     "user_tz": -330
    },
    "id": "X1jmp5KZM-If",
    "outputId": "3f233a02-de5f-4012-ded2-b975ed07ac60"
   },
   "outputs": [
    {
     "data": {
      "text/plain": [
       "300"
      ]
     },
     "execution_count": 150,
     "metadata": {},
     "output_type": "execute_result"
    }
   ],
   "source": [
    "len(data)"
   ]
  },
  {
   "cell_type": "markdown",
   "metadata": {
    "id": "WR4huRMuPdI9"
   },
   "source": [
    "### Train Test Split "
   ]
  },
  {
   "cell_type": "code",
   "execution_count": null,
   "metadata": {
    "id": "XIa9LXC0PWfP"
   },
   "outputs": [],
   "source": [
    "train_data = data.take(round(len(data)*.8))\n",
    "train_data = train_data.batch(10)\n",
    "train_data = train_data.prefetch(8)"
   ]
  },
  {
   "cell_type": "code",
   "execution_count": null,
   "metadata": {
    "id": "5SzG-ynwQCHp"
   },
   "outputs": [],
   "source": [
    "test_data = data.skip(round(len(data)*.8))\n",
    "test_data = test_data.take(round(len(data)*.2)) \n",
    "test_data = train_data.batch(10)\n",
    "test_data = train_data.prefetch(8)"
   ]
  },
  {
   "cell_type": "code",
   "execution_count": null,
   "metadata": {
    "id": "2pLfjKs-Spg4"
   },
   "outputs": [],
   "source": []
  },
  {
   "cell_type": "markdown",
   "metadata": {
    "id": "HmXbrzCvulQS"
   },
   "source": [
    "## Define Model"
   ]
  },
  {
   "cell_type": "code",
   "execution_count": null,
   "metadata": {
    "id": "sasT1hqKunwK"
   },
   "outputs": [],
   "source": [
    "# imports \n",
    "import tensorflow as tf"
   ]
  },
  {
   "cell_type": "code",
   "execution_count": null,
   "metadata": {
    "id": "oVfqsHJRutbL"
   },
   "outputs": [],
   "source": [
    "# layers\n",
    "# Layer, Input, Conv2D, MaxPooling2D, Flatten 3 Dense"
   ]
  },
  {
   "cell_type": "code",
   "execution_count": null,
   "metadata": {
    "id": "MAw7dqh-vRPb"
   },
   "outputs": [],
   "source": [
    "# Building Embding Layer\n",
    "def make_embedding():\n",
    "  inp = tf.keras.layers.Input(shape = (200,200,3), name = \"Input Image\")\n",
    "  return tf.keras.models.Model"
   ]
  },
  {
   "cell_type": "code",
   "execution_count": null,
   "metadata": {
    "colab": {
     "base_uri": "https://localhost:8080/"
    },
    "executionInfo": {
     "elapsed": 736,
     "status": "ok",
     "timestamp": 1668322213918,
     "user": {
      "displayName": "Aritra Ranjan Chowdhury",
      "userId": "14354171114696885282"
     },
     "user_tz": -330
    },
    "id": "R3FeiNVWv30C",
    "outputId": "48bcf5dc-988a-4912-bf96-641b9126da20"
   },
   "outputs": [
    {
     "data": {
      "text/plain": [
       "<KerasTensor: shape=(None, 200, 200, 3) dtype=float32 (created by layer 'Input Image')>"
      ]
     },
     "execution_count": 6,
     "metadata": {},
     "output_type": "execute_result"
    }
   ],
   "source": [
    "inp = tf.keras.layers.Input(shape = (200,200,3), name = \"Input Image\")\n",
    "inp"
   ]
  },
  {
   "cell_type": "code",
   "execution_count": null,
   "metadata": {
    "id": "8PYXak9bwIwt"
   },
   "outputs": [],
   "source": []
  }
 ],
 "metadata": {
  "colab": {
   "collapsed_sections": [],
   "provenance": []
  },
  "kernelspec": {
   "display_name": "Python 3 (ipykernel)",
   "language": "python",
   "name": "python3"
  },
  "language_info": {
   "codemirror_mode": {
    "name": "ipython",
    "version": 3
   },
   "file_extension": ".py",
   "mimetype": "text/x-python",
   "name": "python",
   "nbconvert_exporter": "python",
   "pygments_lexer": "ipython3",
   "version": "3.10.8"
  }
 },
 "nbformat": 4,
 "nbformat_minor": 4
}
