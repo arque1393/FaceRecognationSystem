{
 "cells": [
  {
   "cell_type": "markdown",
   "id": "673c76e3-88bf-4c3a-95b2-e53bac868ef5",
   "metadata": {
    "tags": []
   },
   "source": [
    "# Face Recgonesion using Siamese Architecture "
   ]
  },
  {
   "cell_type": "markdown",
   "id": "1194f1d5-c42f-43c2-acf1-031963c87259",
   "metadata": {
    "tags": []
   },
   "source": [
    "#### Dependency \n",
    "* Tensorflow for neural network \n",
    "* opencv for image process \n"
   ]
  },
  {
   "cell_type": "markdown",
   "id": "2344cc0c-5b01-4114-8a8c-686ce0c087a1",
   "metadata": {
    "tags": []
   },
   "source": [
    "#### Data and Directory Structure\n",
    "```\n",
    "$ tree\n",
    ".\n",
    "├── Data\n",
    "│   ├── Anchore\n",
    "│   ├── Negative\n",
    "│   └── Positive\n",
    "└── FacialRecoftionModel1.ipynb\n",
    "```"
   ]
  },
  {
   "cell_type": "markdown",
   "id": "bec6bcd2-3c2b-4462-bd45-fda4cb02491b",
   "metadata": {
    "tags": []
   },
   "source": [
    "### Import Basic Data Handleing and Processing Modules"
   ]
  },
  {
   "cell_type": "code",
   "execution_count": null,
   "id": "9940a04d-0a9f-433e-90df-383c8a524c53",
   "metadata": {},
   "outputs": [],
   "source": [
    "!pip install numpy"
   ]
  },
  {
   "cell_type": "code",
   "execution_count": 3,
   "id": "c55c1998-de3e-464d-aaf7-bb1f4cd2cfd0",
   "metadata": {},
   "outputs": [
    {
     "ename": "ModuleNotFoundError",
     "evalue": "No module named 'numpy'",
     "output_type": "error",
     "traceback": [
      "\u001b[0;31m---------------------------------------------------------------------------\u001b[0m",
      "\u001b[0;31mModuleNotFoundError\u001b[0m                       Traceback (most recent call last)",
      "Cell \u001b[0;32mIn [3], line 3\u001b[0m\n\u001b[1;32m      1\u001b[0m \u001b[38;5;28;01mimport\u001b[39;00m \u001b[38;5;21;01mos\u001b[39;00m\n\u001b[1;32m      2\u001b[0m \u001b[38;5;28;01mimport\u001b[39;00m \u001b[38;5;21;01mshutil\u001b[39;00m \n\u001b[0;32m----> 3\u001b[0m \u001b[38;5;28;01mimport\u001b[39;00m \u001b[38;5;21;01mnumpy\u001b[39;00m \u001b[38;5;28;01mas\u001b[39;00m \u001b[38;5;21;01mnp\u001b[39;00m\n",
      "\u001b[0;31mModuleNotFoundError\u001b[0m: No module named 'numpy'"
     ]
    }
   ],
   "source": [
    "import os\n",
    "import shutil \n",
    "import numpy as np"
   ]
  },
  {
   "cell_type": "code",
   "execution_count": 4,
   "id": "f3687229-0c68-4123-a06a-9a2e07d0ca24",
   "metadata": {},
   "outputs": [
    {
     "ename": "ModuleNotFoundError",
     "evalue": "No module named 'cv2'",
     "output_type": "error",
     "traceback": [
      "\u001b[0;31m---------------------------------------------------------------------------\u001b[0m",
      "\u001b[0;31mModuleNotFoundError\u001b[0m                       Traceback (most recent call last)",
      "Cell \u001b[0;32mIn [4], line 1\u001b[0m\n\u001b[0;32m----> 1\u001b[0m \u001b[38;5;28;01mimport\u001b[39;00m \u001b[38;5;21;01mcv2\u001b[39;00m\n\u001b[1;32m      2\u001b[0m \u001b[38;5;28;01mimport\u001b[39;00m \u001b[38;5;21;01mrandom\u001b[39;00m\n\u001b[1;32m      3\u001b[0m \u001b[38;5;28;01mfrom\u001b[39;00m \u001b[38;5;21;01mmatplotlib\u001b[39;00m \u001b[38;5;28;01mimport\u001b[39;00m pyplot \u001b[38;5;28;01mas\u001b[39;00m plt\n",
      "\u001b[0;31mModuleNotFoundError\u001b[0m: No module named 'cv2'"
     ]
    }
   ],
   "source": [
    "import cv2\n",
    "import random\n",
    "from matplotlib import pyplot as plt"
   ]
  },
  {
   "cell_type": "markdown",
   "id": "befd48ca-ccb5-4720-9cbc-c991eac946cc",
   "metadata": {},
   "source": [
    "### Data Collecting and Sorting "
   ]
  },
  {
   "cell_type": "code",
   "execution_count": 1,
   "id": "5c037cc0-ab03-4596-8e77-001c1fb628c0",
   "metadata": {},
   "outputs": [],
   "source": [
    "# basedir = \"/content/gdrive/MyDrive/FaceRecognation/\"\n",
    "basedir = \".\"\n",
    "POS_PATH = \"data/positive\"\n",
    "NEG_PATH = \"data/negative\"\n",
    "ANC_PATH = \"data/ancore\"\n",
    "# os.system(\"cd \"+basedir+\"; tar -xf \"+basedir+\"lfw.tgz\")"
   ]
  },
  {
   "cell_type": "code",
   "execution_count": 2,
   "id": "addefb67-594e-4be3-8f6c-d3f0982996cd",
   "metadata": {},
   "outputs": [
    {
     "ename": "NameError",
     "evalue": "name 'os' is not defined",
     "output_type": "error",
     "traceback": [
      "\u001b[0;31m---------------------------------------------------------------------------\u001b[0m",
      "\u001b[0;31mNameError\u001b[0m                                 Traceback (most recent call last)",
      "Cell \u001b[0;32mIn [2], line 2\u001b[0m\n\u001b[1;32m      1\u001b[0m \u001b[38;5;66;03m# Formation of negative data from dataset \u001b[39;00m\n\u001b[0;32m----> 2\u001b[0m \u001b[38;5;28;01mfor\u001b[39;00m dir1 \u001b[38;5;129;01min\u001b[39;00m \u001b[43mos\u001b[49m\u001b[38;5;241m.\u001b[39mlistdir(basedir\u001b[38;5;241m+\u001b[39m\u001b[38;5;124m\"\u001b[39m\u001b[38;5;124mlfw\u001b[39m\u001b[38;5;124m\"\u001b[39m):\n\u001b[1;32m      3\u001b[0m   \u001b[38;5;28;01mfor\u001b[39;00m file1 \u001b[38;5;129;01min\u001b[39;00m os\u001b[38;5;241m.\u001b[39mlistdir(os\u001b[38;5;241m.\u001b[39mpath\u001b[38;5;241m.\u001b[39mjoin(basedir,\u001b[38;5;124m\"\u001b[39m\u001b[38;5;124mlfw\u001b[39m\u001b[38;5;124m\"\u001b[39m, dir1)):\n\u001b[1;32m      4\u001b[0m     ex_path \u001b[38;5;241m=\u001b[39m os\u001b[38;5;241m.\u001b[39mpath\u001b[38;5;241m.\u001b[39mjoin(basedir\u001b[38;5;241m+\u001b[39m\u001b[38;5;124m\"\u001b[39m\u001b[38;5;124mlfw\u001b[39m\u001b[38;5;124m\"\u001b[39m, dir1, file1 )\n",
      "\u001b[0;31mNameError\u001b[0m: name 'os' is not defined"
     ]
    }
   ],
   "source": [
    "# Formation of negative data from dataset \n",
    "for dir1 in os.listdir(basedir+\"lfw\"):\n",
    "  for file1 in os.listdir(os.path.join(basedir,\"lfw\", dir1)):\n",
    "    ex_path = os.path.join(basedir+\"lfw\", dir1, file1 )\n",
    "    new_path = os.path.join(basedir, NEG_PATH, file1 )\n",
    "    \n",
    "    os.replace (ex_path, new_path)"
   ]
  },
  {
   "cell_type": "code",
   "execution_count": null,
   "id": "374ab6bf-8001-4cb1-8535-22d95fece5d3",
   "metadata": {},
   "outputs": [],
   "source": [
    "\n",
    "video1 = cv2.VideoCapture(basedir+'face_video_2.mp4')\n",
    "video2 = cv2.VideoCapture(basedir+'face_video_1.mp4')\n",
    "\n",
    "success, image = video1.read()  \n",
    "count = 0\n",
    "while success:  \n",
    "  cv2.imwrite(os.path.join(basedir, POS_PATH, \"frame%d.jpg\" % count), image[300:880, 40:620,:]) \n",
    "  count+=1\n",
    "  success, image = video1.read()    \n"
   ]
  },
  {
   "cell_type": "code",
   "execution_count": null,
   "id": "d14e308c-066f-4259-b067-584181c632f2",
   "metadata": {},
   "outputs": [],
   "source": [
    "count = 0\n",
    "l = os.listdir(os.path.join(basedir, POS_PATH))\n",
    "print(l)\n",
    "while count < 158:\n",
    "  i = l.pop(random.randint(0,len(l)-1))\n",
    "  ex_path = os.path.join(basedir, POS_PATH, i)\n",
    "  new_path = os.path.join(basedir, ANC_PATH)\n",
    "  count+=1\n",
    "  # os.system(f\"mv '{ex_path}' '{new_path}'\")\n",
    "  shutil.move(ex_path, new_path) "
   ]
  },
  {
   "cell_type": "code",
   "execution_count": null,
   "id": "8fd8eb10-0ded-4574-8293-46f9605019ef",
   "metadata": {},
   "outputs": [],
   "source": []
  },
  {
   "cell_type": "code",
   "execution_count": null,
   "id": "e83fe41b-4532-41b8-a6a5-1477e640b9f5",
   "metadata": {},
   "outputs": [],
   "source": []
  }
 ],
 "metadata": {
  "kernelspec": {
   "display_name": "Python 3 (ipykernel)",
   "language": "python",
   "name": "python3"
  },
  "language_info": {
   "codemirror_mode": {
    "name": "ipython",
    "version": 3
   },
   "file_extension": ".py",
   "mimetype": "text/x-python",
   "name": "python",
   "nbconvert_exporter": "python",
   "pygments_lexer": "ipython3",
   "version": "3.10.8"
  }
 },
 "nbformat": 4,
 "nbformat_minor": 5
}
