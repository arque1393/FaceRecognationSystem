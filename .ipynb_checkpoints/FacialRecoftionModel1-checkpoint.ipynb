{
 "cells": [
  {
   "cell_type": "markdown",
   "id": "673c76e3-88bf-4c3a-95b2-e53bac868ef5",
   "metadata": {
    "tags": []
   },
   "source": [
    "# Face recognition System using Siamese Architecture "
   ]
  },
  {
   "cell_type": "markdown",
   "id": "2344cc0c-5b01-4114-8a8c-686ce0c087a1",
   "metadata": {},
   "source": [
    "#### Data and Directory Structure\n",
    "```\n",
    "$ tree\n",
    ".\n",
    "├── Data\n",
    "│   ├── Anchore\n",
    "│   ├── Negative\n",
    "│   └── Positive\n",
    "└── FacialRecoftionModel1.ipynb\n",
    "```"
   ]
  },
  {
   "cell_type": "code",
   "execution_count": null,
   "id": "8a7bf82c-5cc7-4999-ae7f-d9b4bbb455ad",
   "metadata": {},
   "outputs": [],
   "source": []
  },
  {
   "cell_type": "markdown",
   "id": "bec6bcd2-3c2b-4462-bd45-fda4cb02491b",
   "metadata": {},
   "source": [
    "### Import Basic Data Handleing and Processing Modules"
   ]
  },
  {
   "cell_type": "code",
   "execution_count": 1,
   "id": "f3687229-0c68-4123-a06a-9a2e07d0ca24",
   "metadata": {},
   "outputs": [],
   "source": [
    "import cv2\n",
    "import os\n",
    "import random\n",
    "import numpy as np\n",
    "from matplotlib import pyplot as plt"
   ]
  }
 ],
 "metadata": {
  "kernelspec": {
   "display_name": "Python 3 (ipykernel)",
   "language": "python",
   "name": "python3"
  },
  "language_info": {
   "codemirror_mode": {
    "name": "ipython",
    "version": 3
   },
   "file_extension": ".py",
   "mimetype": "text/x-python",
   "name": "python",
   "nbconvert_exporter": "python",
   "pygments_lexer": "ipython3",
   "version": "3.10.8"
  }
 },
 "nbformat": 4,
 "nbformat_minor": 5
}
